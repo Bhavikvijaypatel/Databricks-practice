{
 "cells": [
  {
   "cell_type": "code",
   "execution_count": 0,
   "metadata": {
    "application/vnd.databricks.v1+cell": {
     "cellMetadata": {
      "byteLimit": 2048000,
      "rowLimit": 10000
     },
     "inputWidgets": {},
     "nuid": "797b6f06-fdb4-4a4e-9170-09ffe480fe62",
     "showTitle": false,
     "tableResultSettingsMap": {},
     "title": ""
    },
    "jupyter": {
     "outputs_hidden": true
    }
   },
   "outputs": [],
   "source": [
    "from pyspark.sql import *\n",
    "\n",
    "# Start Spark\n",
    "spark = SparkSession.builder.getOrCreate()\n",
    "\n",
    "# Load raw CSV \n",
    "df_customer = (\n",
    "    spark.read.format(\"csv\")\n",
    "    .option(\"header\", True)   # use first row as header\n",
    "    .option(\"inferSchema\", True)   # infer schema automatically\n",
    "    .load(\"/Volumes/datasets/dvd_rental/dvd/customer.csv\")\n",
    ")\n",
    "\n",
    "# Inspect schema\n",
    "df_customer.printSchema()\n",
    "\n",
    "# Save to Bronze Delta table\n",
    "spark.sql(\"CREATE SCHEMA IF NOT EXISTS bronze\")\n",
    "df_customer.write.format(\"delta\").mode(\"overwrite\").saveAsTable(\"bronze.customer\")\n",
    "\n"
   ]
  },
  {
   "cell_type": "code",
   "execution_count": 0,
   "metadata": {
    "application/vnd.databricks.v1+cell": {
     "cellMetadata": {
      "byteLimit": 2048000,
      "implicitDf": true,
      "rowLimit": 10000
     },
     "inputWidgets": {},
     "nuid": "2c94e77f-14a0-4a56-b8a0-b3006f92d21b",
     "showTitle": false,
     "tableResultSettingsMap": {},
     "title": ""
    },
    "jupyter": {
     "outputs_hidden": true
    }
   },
   "outputs": [],
   "source": [
    "%sql\n",
    "select * from bronze.customer"
   ]
  }
 ],
 "metadata": {
  "application/vnd.databricks.v1+notebook": {
   "computePreferences": {
    "hardware": {
     "accelerator": null,
     "gpuPoolId": null,
     "memory": null
    }
   },
   "dashboards": [],
   "environmentMetadata": {
    "base_environment": "",
    "environment_version": "3"
   },
   "inputWidgetPreferences": null,
   "language": "python",
   "notebookMetadata": {
    "mostRecentlyExecutedCommandWithImplicitDF": {
     "commandId": 8027547115411608,
     "dataframes": [
      "_sqldf"
     ]
    },
    "pythonIndentUnit": 4
   },
   "notebookName": "Bronze Ingestion Notebook",
   "widgets": {}
  },
  "language_info": {
   "name": "python"
  }
 },
 "nbformat": 4,
 "nbformat_minor": 0
}
